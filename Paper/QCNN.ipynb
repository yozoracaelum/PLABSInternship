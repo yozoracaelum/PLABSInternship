{
 "cells": [
  {
   "cell_type": "code",
   "execution_count": 1,
   "metadata": {},
   "outputs": [
    {
     "data": {
      "text/plain": [
       "<module 'pkg_resources' from 'd:\\\\F\\\\Python\\\\Python310\\\\lib\\\\site-packages\\\\pkg_resources\\\\__init__.py'>"
      ]
     },
     "execution_count": 1,
     "metadata": {},
     "output_type": "execute_result"
    }
   ],
   "source": [
    "import importlib, pkg_resources\n",
    "importlib.reload(pkg_resources)"
   ]
  },
  {
   "cell_type": "code",
   "execution_count": 3,
   "metadata": {},
   "outputs": [
    {
     "name": "stdout",
     "output_type": "stream",
     "text": [
      "Collecting google.api.core==1.16.0Note: you may need to restart the kernel to use updated packages.\n",
      "\n",
      "  Downloading google_api_core-1.16.0-py2.py3-none-any.whl (70 kB)\n",
      "     --------------------------------------- 70.4/70.4 kB 66.3 kB/s eta 0:00:00\n",
      "Requirement already satisfied: six>=1.10.0 in d:\\f\\python\\python310\\lib\\site-packages (from google.api.core==1.16.0) (1.16.0)\n",
      "Requirement already satisfied: googleapis-common-protos<2.0dev,>=1.6.0 in d:\\f\\python\\python310\\lib\\site-packages (from google.api.core==1.16.0) (1.56.4)\n",
      "Requirement already satisfied: protobuf>=3.4.0 in d:\\f\\python\\python310\\lib\\site-packages (from google.api.core==1.16.0) (3.19.6)\n",
      "Collecting google-auth<2.0dev,>=0.4.0\n",
      "  Downloading google_auth-1.35.0-py2.py3-none-any.whl (152 kB)\n",
      "     ------------------------------------- 152.9/152.9 kB 46.8 kB/s eta 0:00:00\n",
      "Requirement already satisfied: setuptools>=34.0.0 in d:\\f\\python\\python310\\lib\\site-packages (from google.api.core==1.16.0) (63.2.0)\n",
      "Requirement already satisfied: pytz in d:\\f\\python\\python310\\lib\\site-packages (from google.api.core==1.16.0) (2022.4)\n",
      "Requirement already satisfied: requests<3.0.0dev,>=2.18.0 in d:\\f\\python\\python310\\lib\\site-packages (from google.api.core==1.16.0) (2.28.1)\n",
      "Requirement already satisfied: rsa<5,>=3.1.4 in d:\\f\\python\\python310\\lib\\site-packages (from google-auth<2.0dev,>=0.4.0->google.api.core==1.16.0) (4.9)\n",
      "Requirement already satisfied: pyasn1-modules>=0.2.1 in d:\\f\\python\\python310\\lib\\site-packages (from google-auth<2.0dev,>=0.4.0->google.api.core==1.16.0) (0.2.8)\n",
      "Collecting cachetools<5.0,>=2.0.0\n",
      "  Downloading cachetools-4.2.4-py3-none-any.whl (10 kB)\n",
      "Requirement already satisfied: charset-normalizer<3,>=2 in d:\\f\\python\\python310\\lib\\site-packages (from requests<3.0.0dev,>=2.18.0->google.api.core==1.16.0) (2.1.1)\n",
      "Requirement already satisfied: certifi>=2017.4.17 in d:\\f\\python\\python310\\lib\\site-packages (from requests<3.0.0dev,>=2.18.0->google.api.core==1.16.0) (2022.9.24)\n",
      "Requirement already satisfied: urllib3<1.27,>=1.21.1 in d:\\f\\python\\python310\\lib\\site-packages (from requests<3.0.0dev,>=2.18.0->google.api.core==1.16.0) (1.26.12)\n",
      "Requirement already satisfied: idna<4,>=2.5 in d:\\f\\python\\python310\\lib\\site-packages (from requests<3.0.0dev,>=2.18.0->google.api.core==1.16.0) (3.4)\n",
      "Requirement already satisfied: pyasn1<0.5.0,>=0.4.6 in d:\\f\\python\\python310\\lib\\site-packages (from pyasn1-modules>=0.2.1->google-auth<2.0dev,>=0.4.0->google.api.core==1.16.0) (0.4.8)\n",
      "Installing collected packages: cachetools, google-auth, google.api.core\n",
      "  Attempting uninstall: cachetools\n",
      "    Found existing installation: cachetools 5.2.0\n",
      "    Uninstalling cachetools-5.2.0:\n",
      "      Successfully uninstalled cachetools-5.2.0\n",
      "  Attempting uninstall: google-auth\n",
      "    Found existing installation: google-auth 2.12.0\n",
      "    Uninstalling google-auth-2.12.0:\n",
      "      Successfully uninstalled google-auth-2.12.0\n",
      "  Attempting uninstall: google.api.core\n",
      "    Found existing installation: google-api-core 1.33.2\n",
      "    Uninstalling google-api-core-1.33.2:\n",
      "      Successfully uninstalled google-api-core-1.33.2\n",
      "Successfully installed cachetools-4.2.4 google-auth-1.35.0 google.api.core-1.16.0\n"
     ]
    },
    {
     "name": "stderr",
     "output_type": "stream",
     "text": [
      "WARNING: Retrying (Retry(total=4, connect=None, read=None, redirect=None, status=None)) after connection broken by 'ConnectTimeoutError(<pip._vendor.urllib3.connection.HTTPSConnection object at 0x0000023AD23F48B0>, 'Connection to pypi.org timed out. (connect timeout=15)')': /simple/google-api-core/\n"
     ]
    }
   ],
   "source": [
    "%pip install google.api.core==1.16.0"
   ]
  },
  {
   "cell_type": "code",
   "execution_count": 4,
   "metadata": {},
   "outputs": [
    {
     "name": "stdout",
     "output_type": "stream",
     "text": [
      "Collecting cython\n",
      "  Downloading Cython-0.29.32-py2.py3-none-any.whl (986 kB)\n",
      "     ------------------------------------- 986.3/986.3 kB 40.4 kB/s eta 0:00:00\n",
      "Installing collected packages: cython\n",
      "Successfully installed cython-0.29.32\n",
      "Note: you may need to restart the kernel to use updated packages.\n"
     ]
    }
   ],
   "source": [
    "%pip install cython"
   ]
  },
  {
   "cell_type": "code",
   "execution_count": 2,
   "metadata": {},
   "outputs": [
    {
     "name": "stdout",
     "output_type": "stream",
     "text": [
      "^C\n",
      "Note: you may need to restart the kernel to use updated packages.\n"
     ]
    }
   ],
   "source": [
    "%pip install tensorflow-gpu"
   ]
  },
  {
   "cell_type": "code",
   "execution_count": 3,
   "metadata": {},
   "outputs": [
    {
     "name": "stdout",
     "output_type": "stream",
     "text": [
      "Note: you may need to restart the kernel to use updated packages.\n"
     ]
    },
    {
     "name": "stderr",
     "output_type": "stream",
     "text": [
      "ERROR: Could not find a version that satisfies the requirement tensorflow_quantum (from versions: none)\n",
      "ERROR: No matching distribution found for tensorflow_quantum\n"
     ]
    }
   ],
   "source": [
    "%pip install tensorflow_quantum"
   ]
  }
 ],
 "metadata": {
  "kernelspec": {
   "display_name": "Python 3.10.7 64-bit",
   "language": "python",
   "name": "python3"
  },
  "language_info": {
   "codemirror_mode": {
    "name": "ipython",
    "version": 3
   },
   "file_extension": ".py",
   "mimetype": "text/x-python",
   "name": "python",
   "nbconvert_exporter": "python",
   "pygments_lexer": "ipython3",
   "version": "3.10.7"
  },
  "orig_nbformat": 4,
  "vscode": {
   "interpreter": {
    "hash": "d696084232e50dffaa391336420e7dacdbcec77c2f268a83cf1262313ad6a821"
   }
  }
 },
 "nbformat": 4,
 "nbformat_minor": 2
}
